{
  "nbformat": 4,
  "nbformat_minor": 0,
  "metadata": {
    "colab": {
      "name": "ML_project.ipynb",
      "provenance": [],
      "collapsed_sections": []
    },
    "kernelspec": {
      "name": "python3",
      "display_name": "Python 3"
    },
    "language_info": {
      "name": "python"
    },
    "accelerator": "GPU"
  },
  "cells": [
    {
      "cell_type": "markdown",
      "metadata": {
        "id": "WPHcDxDiyu4l"
      },
      "source": [
        "# BBM406 - Fundamentals of Machine Learning Course Project \n",
        "\n",
        "\n",
        "### This file contains Neural Network Application of Predicting Origin of Music \n",
        "\n",
        "\n",
        "\n"
      ]
    },
    {
      "cell_type": "code",
      "metadata": {
        "colab": {
          "base_uri": "https://localhost:8080/"
        },
        "id": "3bJIPCKFveK6",
        "outputId": "04e802d3-449c-47f0-8527-d9837a4b16fc"
      },
      "source": [
        "!pip install eli5\n",
        "!pip install gmplot"
      ],
      "execution_count": 2,
      "outputs": [
        {
          "output_type": "stream",
          "text": [
            "Collecting eli5\n",
            "\u001b[?25l  Downloading https://files.pythonhosted.org/packages/d1/54/04cab6e1c0ae535bec93f795d8403fdf6caf66fa5a6512263202dbb14ea6/eli5-0.11.0-py2.py3-none-any.whl (106kB)\n",
            "\r\u001b[K     |███                             | 10kB 22.5MB/s eta 0:00:01\r\u001b[K     |██████▏                         | 20kB 28.9MB/s eta 0:00:01\r\u001b[K     |█████████▎                      | 30kB 21.6MB/s eta 0:00:01\r\u001b[K     |████████████▍                   | 40kB 17.2MB/s eta 0:00:01\r\u001b[K     |███████████████▌                | 51kB 8.6MB/s eta 0:00:01\r\u001b[K     |██████████████████▌             | 61kB 5.9MB/s eta 0:00:01\r\u001b[K     |█████████████████████▋          | 71kB 6.6MB/s eta 0:00:01\r\u001b[K     |████████████████████████▊       | 81kB 6.8MB/s eta 0:00:01\r\u001b[K     |███████████████████████████▉    | 92kB 7.5MB/s eta 0:00:01\r\u001b[K     |███████████████████████████████ | 102kB 7.2MB/s eta 0:00:01\r\u001b[K     |████████████████████████████████| 112kB 7.2MB/s \n",
            "\u001b[?25hRequirement already satisfied: numpy>=1.9.0 in /usr/local/lib/python3.7/dist-packages (from eli5) (1.19.5)\n",
            "Requirement already satisfied: six in /usr/local/lib/python3.7/dist-packages (from eli5) (1.15.0)\n",
            "Requirement already satisfied: attrs>16.0.0 in /usr/local/lib/python3.7/dist-packages (from eli5) (21.2.0)\n",
            "Requirement already satisfied: scikit-learn>=0.20 in /usr/local/lib/python3.7/dist-packages (from eli5) (0.22.2.post1)\n",
            "Requirement already satisfied: scipy in /usr/local/lib/python3.7/dist-packages (from eli5) (1.4.1)\n",
            "Requirement already satisfied: jinja2 in /usr/local/lib/python3.7/dist-packages (from eli5) (2.11.3)\n",
            "Requirement already satisfied: tabulate>=0.7.7 in /usr/local/lib/python3.7/dist-packages (from eli5) (0.8.9)\n",
            "Requirement already satisfied: graphviz in /usr/local/lib/python3.7/dist-packages (from eli5) (0.10.1)\n",
            "Requirement already satisfied: joblib>=0.11 in /usr/local/lib/python3.7/dist-packages (from scikit-learn>=0.20->eli5) (1.0.1)\n",
            "Requirement already satisfied: MarkupSafe>=0.23 in /usr/local/lib/python3.7/dist-packages (from jinja2->eli5) (2.0.1)\n",
            "Installing collected packages: eli5\n",
            "Successfully installed eli5-0.11.0\n",
            "Collecting gmplot\n",
            "\u001b[?25l  Downloading https://files.pythonhosted.org/packages/2f/2f/45399c0a3b75d22a6ece1a1732a1670836cf284de7c1f91379a8d9b666a1/gmplot-1.4.1-py3-none-any.whl (164kB)\n",
            "\u001b[K     |████████████████████████████████| 174kB 7.8MB/s \n",
            "\u001b[?25hRequirement already satisfied: requests in /usr/local/lib/python3.7/dist-packages (from gmplot) (2.23.0)\n",
            "Requirement already satisfied: certifi>=2017.4.17 in /usr/local/lib/python3.7/dist-packages (from requests->gmplot) (2020.12.5)\n",
            "Requirement already satisfied: chardet<4,>=3.0.2 in /usr/local/lib/python3.7/dist-packages (from requests->gmplot) (3.0.4)\n",
            "Requirement already satisfied: urllib3!=1.25.0,!=1.25.1,<1.26,>=1.21.1 in /usr/local/lib/python3.7/dist-packages (from requests->gmplot) (1.24.3)\n",
            "Requirement already satisfied: idna<3,>=2.5 in /usr/local/lib/python3.7/dist-packages (from requests->gmplot) (2.10)\n",
            "Installing collected packages: gmplot\n",
            "Successfully installed gmplot-1.4.1\n"
          ],
          "name": "stdout"
        }
      ]
    },
    {
      "cell_type": "code",
      "metadata": {
        "id": "lqlYbLVahgzi",
        "colab": {
          "base_uri": "https://localhost:8080/"
        },
        "outputId": "8e2f66bd-e47a-412e-8236-463fe6137765"
      },
      "source": [
        "import pandas as pd\n",
        "import numpy as np\n",
        "import matplotlib.pyplot as plt\n",
        "from math import *\n",
        "\n",
        "from sklearn.preprocessing import StandardScaler, MinMaxScaler\n",
        "from sklearn.model_selection import train_test_split, GridSearchCV\n",
        "from sklearn.ensemble import RandomForestClassifier, ExtraTreesClassifier\n",
        "from sklearn.linear_model import LogisticRegression\n",
        "from sklearn.neural_network import MLPRegressor\n",
        "from sklearn.metrics import mean_squared_error,confusion_matrix, classification_report, accuracy_score, f1_score, r2_score\n",
        "\n",
        "from geopy.distance import great_circle, vincenty, geodesic\n",
        "from geopy.geocoders import Nominatim\n",
        "import eli5\n",
        "from eli5.sklearn import PermutationImportance\n",
        "\n",
        "import gmplot\n",
        "import plotly.express as px\n",
        "\n",
        "from warnings import filterwarnings\n",
        "filterwarnings('ignore')\n"
      ],
      "execution_count": 3,
      "outputs": [
        {
          "output_type": "stream",
          "text": [
            "/usr/local/lib/python3.7/dist-packages/sklearn/utils/deprecation.py:144: FutureWarning: The sklearn.feature_selection.base module is  deprecated in version 0.22 and will be removed in version 0.24. The corresponding classes / functions should instead be imported from sklearn.feature_selection. Anything that cannot be imported from sklearn.feature_selection is now part of the private API.\n",
            "  warnings.warn(message, FutureWarning)\n"
          ],
          "name": "stderr"
        }
      ]
    },
    {
      "cell_type": "code",
      "metadata": {
        "colab": {
          "base_uri": "https://localhost:8080/"
        },
        "id": "i1SauaGshC3U",
        "outputId": "c843bfbf-e3fc-45eb-8f93-2a083cbc1379"
      },
      "source": [
        "df = pd.read_csv(\"database.txt\", delimiter=\",\", header=None)\n",
        "\n",
        "# change last 2 column name as a latitude and longitude \n",
        "column_names = [\"Feature \" + str(x) for x in range(68)]\n",
        "column_names.append('latitude')\n",
        "column_names.append('longitude')\n",
        "df.columns = column_names\n",
        "\n",
        "print(df.head())"
      ],
      "execution_count": 6,
      "outputs": [
        {
          "output_type": "stream",
          "text": [
            "   Feature 0  Feature 1  Feature 2  ...  Feature 67  latitude  longitude\n",
            "0   7.161286   7.835325   2.911583  ...   -0.836250    -15.75     -47.95\n",
            "1   0.225763  -0.094169  -0.603646  ...    1.391141     14.91     -23.51\n",
            "2  -0.692525  -0.517801  -0.788035  ...    1.063847     12.65      -8.00\n",
            "3  -0.735562  -0.684055   2.058215  ...   -0.392197      9.03      38.74\n",
            "4   0.570272   0.273157  -0.279214  ...    1.289783     34.03      -6.85\n",
            "\n",
            "[5 rows x 70 columns]\n"
          ],
          "name": "stdout"
        }
      ]
    },
    {
      "cell_type": "code",
      "metadata": {
        "colab": {
          "base_uri": "https://localhost:8080/"
        },
        "id": "sT2TYVNvxi8E",
        "outputId": "d65cb968-72c3-4e77-b190-a90895d65edf"
      },
      "source": [
        "# data preparation part \n",
        "def clean_dataset(df):\n",
        "    assert isinstance(df, pd.DataFrame), \"df needs to be a pd.DataFrame\"\n",
        "    df.dropna(inplace=True)\n",
        "    indices_to_keep = ~df.isin([np.nan, np.inf, -np.inf]).any(1)\n",
        "    return df[indices_to_keep].astype(np.float64)\n",
        "\n",
        "df = clean_dataset(df)   \n",
        "print(df.info()) \n",
        "print(np.any(np.isnan(df.values)))\n",
        "print(np.all(np.isfinite(df.values)))"
      ],
      "execution_count": 8,
      "outputs": [
        {
          "output_type": "stream",
          "text": [
            "<class 'pandas.core.frame.DataFrame'>\n",
            "Int64Index: 1059 entries, 0 to 1058\n",
            "Data columns (total 70 columns):\n",
            " #   Column      Non-Null Count  Dtype  \n",
            "---  ------      --------------  -----  \n",
            " 0   Feature 0   1059 non-null   float64\n",
            " 1   Feature 1   1059 non-null   float64\n",
            " 2   Feature 2   1059 non-null   float64\n",
            " 3   Feature 3   1059 non-null   float64\n",
            " 4   Feature 4   1059 non-null   float64\n",
            " 5   Feature 5   1059 non-null   float64\n",
            " 6   Feature 6   1059 non-null   float64\n",
            " 7   Feature 7   1059 non-null   float64\n",
            " 8   Feature 8   1059 non-null   float64\n",
            " 9   Feature 9   1059 non-null   float64\n",
            " 10  Feature 10  1059 non-null   float64\n",
            " 11  Feature 11  1059 non-null   float64\n",
            " 12  Feature 12  1059 non-null   float64\n",
            " 13  Feature 13  1059 non-null   float64\n",
            " 14  Feature 14  1059 non-null   float64\n",
            " 15  Feature 15  1059 non-null   float64\n",
            " 16  Feature 16  1059 non-null   float64\n",
            " 17  Feature 17  1059 non-null   float64\n",
            " 18  Feature 18  1059 non-null   float64\n",
            " 19  Feature 19  1059 non-null   float64\n",
            " 20  Feature 20  1059 non-null   float64\n",
            " 21  Feature 21  1059 non-null   float64\n",
            " 22  Feature 22  1059 non-null   float64\n",
            " 23  Feature 23  1059 non-null   float64\n",
            " 24  Feature 24  1059 non-null   float64\n",
            " 25  Feature 25  1059 non-null   float64\n",
            " 26  Feature 26  1059 non-null   float64\n",
            " 27  Feature 27  1059 non-null   float64\n",
            " 28  Feature 28  1059 non-null   float64\n",
            " 29  Feature 29  1059 non-null   float64\n",
            " 30  Feature 30  1059 non-null   float64\n",
            " 31  Feature 31  1059 non-null   float64\n",
            " 32  Feature 32  1059 non-null   float64\n",
            " 33  Feature 33  1059 non-null   float64\n",
            " 34  Feature 34  1059 non-null   float64\n",
            " 35  Feature 35  1059 non-null   float64\n",
            " 36  Feature 36  1059 non-null   float64\n",
            " 37  Feature 37  1059 non-null   float64\n",
            " 38  Feature 38  1059 non-null   float64\n",
            " 39  Feature 39  1059 non-null   float64\n",
            " 40  Feature 40  1059 non-null   float64\n",
            " 41  Feature 41  1059 non-null   float64\n",
            " 42  Feature 42  1059 non-null   float64\n",
            " 43  Feature 43  1059 non-null   float64\n",
            " 44  Feature 44  1059 non-null   float64\n",
            " 45  Feature 45  1059 non-null   float64\n",
            " 46  Feature 46  1059 non-null   float64\n",
            " 47  Feature 47  1059 non-null   float64\n",
            " 48  Feature 48  1059 non-null   float64\n",
            " 49  Feature 49  1059 non-null   float64\n",
            " 50  Feature 50  1059 non-null   float64\n",
            " 51  Feature 51  1059 non-null   float64\n",
            " 52  Feature 52  1059 non-null   float64\n",
            " 53  Feature 53  1059 non-null   float64\n",
            " 54  Feature 54  1059 non-null   float64\n",
            " 55  Feature 55  1059 non-null   float64\n",
            " 56  Feature 56  1059 non-null   float64\n",
            " 57  Feature 57  1059 non-null   float64\n",
            " 58  Feature 58  1059 non-null   float64\n",
            " 59  Feature 59  1059 non-null   float64\n",
            " 60  Feature 60  1059 non-null   float64\n",
            " 61  Feature 61  1059 non-null   float64\n",
            " 62  Feature 62  1059 non-null   float64\n",
            " 63  Feature 63  1059 non-null   float64\n",
            " 64  Feature 64  1059 non-null   float64\n",
            " 65  Feature 65  1059 non-null   float64\n",
            " 66  Feature 66  1059 non-null   float64\n",
            " 67  Feature 67  1059 non-null   float64\n",
            " 68  latitude    1059 non-null   float64\n",
            " 69  longitude   1059 non-null   float64\n",
            "dtypes: float64(70)\n",
            "memory usage: 587.4 KB\n",
            "None\n",
            "False\n",
            "True\n"
          ],
          "name": "stdout"
        }
      ]
    },
    {
      "cell_type": "code",
      "metadata": {
        "id": "13p2qFLCtFCL"
      },
      "source": [
        "# make sure all values are proper \n",
        "\n",
        "_assert_all_finite(df.values)\n",
        "df.replace([np.inf, -np.inf], np.nan, inplace=True)\n",
        "df.fillna(1, inplace=True)"
      ],
      "execution_count": 11,
      "outputs": []
    },
    {
      "cell_type": "code",
      "metadata": {
        "colab": {
          "base_uri": "https://localhost:8080/"
        },
        "id": "GS2DH5I9h4r2",
        "outputId": "4c2da7bb-edba-4304-a8ea-e2643fb9f214"
      },
      "source": [
        "# split features columns and target labels\n",
        "X = df.iloc[:,:-2]\n",
        "y = df.iloc[:,-2:]\n",
        "print(X)\n",
        "print(y)"
      ],
      "execution_count": 12,
      "outputs": [
        {
          "output_type": "stream",
          "text": [
            "      Feature 0  Feature 1  Feature 2  ...  Feature 65  Feature 66  Feature 67\n",
            "0      7.161286   7.835325   2.911583  ...   -0.668840   -0.914772   -0.836250\n",
            "1      0.225763  -0.094169  -0.603646  ...    1.088478   -0.123595    1.391141\n",
            "2     -0.692525  -0.517801  -0.788035  ...    2.081069    1.375763    1.063847\n",
            "3     -0.735562  -0.684055   2.058215  ...   -0.385005   -0.012326   -0.392197\n",
            "4      0.570272   0.273157  -0.279214  ...    0.119658    0.271838    1.289783\n",
            "...         ...        ...        ...  ...         ...         ...         ...\n",
            "1054   0.399577   0.310805  -0.039326  ...    2.467278    1.867699    1.719302\n",
            "1055   1.640386   1.306224   0.192745  ...    1.126762    2.220671    4.422651\n",
            "1056  -0.772360  -0.670596  -0.840420  ...   -0.718175   -0.983640   -0.573822\n",
            "1057  -0.996965  -1.099395   3.515274  ...   -0.137473   -0.781036   -0.832167\n",
            "1058  -0.150911  -0.094333  -0.568885  ...    5.244305    2.506568    1.462580\n",
            "\n",
            "[1059 rows x 68 columns]\n",
            "      latitude  longitude\n",
            "0       -15.75     -47.95\n",
            "1        14.91     -23.51\n",
            "2        12.65      -8.00\n",
            "3         9.03      38.74\n",
            "4        34.03      -6.85\n",
            "...        ...        ...\n",
            "1054     -6.17      35.74\n",
            "1055     11.55     104.91\n",
            "1056     41.33      19.80\n",
            "1057     54.68      25.31\n",
            "1058     54.68      25.31\n",
            "\n",
            "[1059 rows x 2 columns]\n"
          ],
          "name": "stdout"
        }
      ]
    },
    {
      "cell_type": "code",
      "metadata": {
        "id": "TSFiWIvsiq_x"
      },
      "source": [
        "# train test split with  test size 0.3\n",
        "X_train, X_test, y_train, y_test = train_test_split(X, y, test_size=0.3, random_state=1234)"
      ],
      "execution_count": 15,
      "outputs": []
    },
    {
      "cell_type": "code",
      "metadata": {
        "id": "v8xLMVJTjM7R"
      },
      "source": [
        "# model \n",
        "regr = MLPRegressor(random_state=1234, max_iter=4000,hidden_layer_sizes=(12,12),activation='identity',solver='adam',batch_size=64,learning_rate='invscaling',alpha=1000).fit(X_train, y_train)\n",
        "y_predict = regr.predict(X_test)"
      ],
      "execution_count": 16,
      "outputs": []
    },
    {
      "cell_type": "code",
      "metadata": {
        "colab": {
          "base_uri": "https://localhost:8080/"
        },
        "id": "i61bFmk90ajs",
        "outputId": "59825945-757e-44c5-a33b-0544b7c24b53"
      },
      "source": [
        "# evaluation using mean squared error and r2_score\n",
        "\n",
        "# first value is latitude error and second value is longitude error in km (in terms of euclidean distance)\n",
        "print(mean_squared_error(y_predict, y_test, multioutput='raw_values'))\n",
        "\n",
        "# regression score function \n",
        "print(r2_score(y_predict,y_test, multioutput='raw_values'))\n",
        " "
      ],
      "execution_count": 18,
      "outputs": [
        {
          "output_type": "stream",
          "text": [
            "[ 290.24509326 2088.92918618]\n",
            "[-6.51346789 -3.24105706]\n"
          ],
          "name": "stdout"
        }
      ]
    },
    {
      "cell_type": "code",
      "metadata": {
        "colab": {
          "base_uri": "https://localhost:8080/"
        },
        "id": "mL42i-cjBlxb",
        "outputId": "bef44636-29fd-4b10-80b7-9cbc770d8d10"
      },
      "source": [
        "# application of haversine formula \n",
        "def distance_km(xpred,ypred,x,y): \n",
        "  dlon = radians(ypred) - radians(y)\n",
        "  dlat = radians(xpred) - radians(x)\n",
        "    \n",
        "  a = sin(dlat / 2)**2 + cos(x) * cos(xpred) * sin(dlon / 2)**2\n",
        "  if a<0:\n",
        "    a *= -1\n",
        "  c = 2 * atan2(sqrt(a), sqrt(1 - a))\n",
        "  return 6373 * c\n",
        "\n",
        "label_array = y_test[['latitude', 'longitude']].to_numpy()\n",
        "\n",
        "\n",
        "sum = 0;\n",
        "for i in range(y_test.shape[0]):\n",
        "  # world coordinates boundaries\n",
        "  if y_predict[i][0]>90:\n",
        "    y_predict[i][0]=90\n",
        "\n",
        "  if y_predict[i][1]>180:\n",
        "    y_predict[i][1]=180\n",
        "\n",
        "  if y_predict[i][0]<-90:\n",
        "    y_predict[i][0]=-90\n",
        "\n",
        "  if y_predict[i][1]<-180:\n",
        "    y_predict[i][1]=-180\n",
        "\n",
        "  p1 = (y_predict[i][0], y_predict[i][1]) # predicted point\n",
        "  p2 = (label_array[i][0],label_array[i][1]) # actual point\n",
        "  sum += distance_km(y_predict[i][0], y_predict[i][1],label_array[i][0],label_array[i][1])\n",
        "\n",
        "# mean error in km (in terms of great circle distance)\n",
        "print(sum/y_test.shape[0])"
      ],
      "execution_count": 19,
      "outputs": [
        {
          "output_type": "stream",
          "text": [
            "2714.990000516712\n"
          ],
          "name": "stdout"
        }
      ]
    },
    {
      "cell_type": "code",
      "metadata": {
        "id": "NS-PJ5mMlyH6"
      },
      "source": [
        "# show distances between two points using GoogleMapPlotter\n",
        "\n",
        "latitude_list = [ y_test.values[18][0], y_predict[18][0] ]\n",
        "longitude_list = [y_test.values[18][1], y_predict[18][1] ]\n",
        "\n",
        "gmap = gmplot.GoogleMapPlotter(min(latitude_list),\n",
        "                                max(longitude_list), 13)\n",
        "  \n",
        "# marker method of map object \n",
        "gmap.marker(y_test.values[18][0], y_test.values[18][1], color='cornflowerblue')\n",
        "gmap.marker(y_predict[18][0], y_predict[18][1], color='cornflowerblue')\n",
        "\n",
        "# scatter points on the google map\n",
        "gmap.scatter( latitude_list, longitude_list, '# FF0000',\n",
        "                              size = 40, marker = False )\n",
        "  \n",
        "# Plot method Draw a line in\n",
        "# between given coordinates\n",
        "gmap.plot(latitude_list, longitude_list, \n",
        "           'red', edge_width = 2.5)\n",
        "  \n",
        "\n",
        "gmap.draw( \"map.html\" )"
      ],
      "execution_count": 20,
      "outputs": []
    },
    {
      "cell_type": "code",
      "metadata": {
        "colab": {
          "base_uri": "https://localhost:8080/",
          "height": 209
        },
        "id": "DgmEko_h0ii1",
        "outputId": "ab5b6d16-5299-491e-8cab-a9621813b80c"
      },
      "source": [
        "# show predicted and actual points using geopandas \n",
        "\n",
        "test_lat = [y_test.values[0][0] ]\n",
        "test_long = [y_test.values[0][1] ]\n",
        "pred_lat = [y_predict[0][0] ]\n",
        "pred_long = [y_predict[0][1] ]\n",
        "\n",
        "\n",
        "test_df = pd.DataFrame({'latitude' : test_lat,'longitude' : test_long})\n",
        "pred_df = pd.DataFrame({'latitude' : pred_lat,'longitude' : pred_long})\n",
        "\n",
        "test_gdf = geopandas.GeoDataFrame(test_df, geometry=geopandas.points_from_xy(test_df.longitude, test_df.latitude))\n",
        "\n",
        "world = geopandas.read_file(geopandas.datasets.get_path('naturalearth_lowres'))\n",
        "\n",
        "# We restrict to South America.\n",
        "ax = world.plot(\n",
        "    color='white', edgecolor='black')\n",
        "\n",
        "# We can now plot our ``GeoDataFrame``.\n",
        "test_gdf.plot(ax=ax, color='red')\n",
        "\n",
        "pred_gdf = geopandas.GeoDataFrame(pred_df, geometry=geopandas.points_from_xy(pred_df.longitude, pred_df.latitude))\n",
        "pred_gdf.plot(ax=ax,color='blue')\n",
        "plt.show()"
      ],
      "execution_count": null,
      "outputs": [
        {
          "output_type": "display_data",
          "data": {
            "image/png": "[encoded data removed]",
            "text/plain": [
              "<Figure size 432x288 with 1 Axes>"
            ]
          },
          "metadata": {
            "tags": [],
            "needs_background": "light"
          }
        }
      ]
    }
  ]
}